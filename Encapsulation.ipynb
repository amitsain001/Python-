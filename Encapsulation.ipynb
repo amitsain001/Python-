{
 "cells": [
  {
   "cell_type": "markdown",
   "metadata": {},
   "source": [
    "# Encapsulation\n",
    "\n",
    "###  Encapsulation is the method of wrapping up of data in a single unit.\n",
    "\n",
    "* Public Method\n",
    "* Private Method\n",
    "* Protected Method"
   ]
  },
  {
   "cell_type": "markdown",
   "metadata": {},
   "source": [
    "#### 1. Public Method "
   ]
  },
  {
   "cell_type": "code",
   "execution_count": 5,
   "metadata": {},
   "outputs": [
    {
     "name": "stdout",
     "output_type": "stream",
     "text": [
      "college name is LIET\n",
      "college address is Chikani\n",
      "faculty name is Aarti Arora\n",
      "faculty salary is 1000000\n",
      "student name is Amit 😊\n",
      "student branch is CSE\n"
     ]
    }
   ],
   "source": [
    "class college:\n",
    "    college_name=\"LIET\"\n",
    "    college_add=\"Chikani\"\n",
    "    \n",
    "class faculty(college):\n",
    "    faculty_name=\"Aarti Arora\"\n",
    "    faculty_salary=1000000\n",
    "    \n",
    "class student(faculty):\n",
    "    student_name=\"Amit 😊\"\n",
    "    student_branch=\"CSE\"\n",
    "    \n",
    "obj_1=student()\n",
    "print(\"college name is\",obj_1.college_name)\n",
    "print(\"college address is\",obj_1.college_add)\n",
    "print(\"faculty name is\",obj_1.faculty_name)\n",
    "print(\"faculty salary is\",obj_1.faculty_salary)\n",
    "print(\"student name is\",obj_1.student_name)\n",
    "print(\"student branch is\",obj_1.student_branch)\n"
   ]
  },
  {
   "cell_type": "markdown",
   "metadata": {},
   "source": [
    "#### 2. Private Method"
   ]
  },
  {
   "cell_type": "code",
   "execution_count": 6,
   "metadata": {},
   "outputs": [
    {
     "name": "stdout",
     "output_type": "stream",
     "text": [
      "college name is LIET\n",
      "college address is Chikani\n",
      "faculty name is Aarti Arora\n"
     ]
    },
    {
     "ename": "AttributeError",
     "evalue": "'student' object has no attribute 'faculty_salary'",
     "output_type": "error",
     "traceback": [
      "\u001b[1;31m---------------------------------------------------------------------------\u001b[0m",
      "\u001b[1;31mAttributeError\u001b[0m                            Traceback (most recent call last)",
      "Cell \u001b[1;32mIn[6], line 17\u001b[0m\n\u001b[0;32m     15\u001b[0m \u001b[38;5;28mprint\u001b[39m(\u001b[38;5;124m\"\u001b[39m\u001b[38;5;124mcollege address is\u001b[39m\u001b[38;5;124m\"\u001b[39m,obj_1\u001b[38;5;241m.\u001b[39mcollege_add)\n\u001b[0;32m     16\u001b[0m \u001b[38;5;28mprint\u001b[39m(\u001b[38;5;124m\"\u001b[39m\u001b[38;5;124mfaculty name is\u001b[39m\u001b[38;5;124m\"\u001b[39m,obj_1\u001b[38;5;241m.\u001b[39mfaculty_name)\n\u001b[1;32m---> 17\u001b[0m \u001b[38;5;28mprint\u001b[39m(\u001b[38;5;124m\"\u001b[39m\u001b[38;5;124mfaculty salary is\u001b[39m\u001b[38;5;124m\"\u001b[39m,\u001b[43mobj_1\u001b[49m\u001b[38;5;241;43m.\u001b[39;49m\u001b[43mfaculty_salary\u001b[49m)\n\u001b[0;32m     18\u001b[0m \u001b[38;5;28mprint\u001b[39m(\u001b[38;5;124m\"\u001b[39m\u001b[38;5;124mstudent name is\u001b[39m\u001b[38;5;124m\"\u001b[39m,obj_1\u001b[38;5;241m.\u001b[39mstudent_name)\n\u001b[0;32m     19\u001b[0m \u001b[38;5;28mprint\u001b[39m(\u001b[38;5;124m\"\u001b[39m\u001b[38;5;124mstudent branch is\u001b[39m\u001b[38;5;124m\"\u001b[39m,obj_1\u001b[38;5;241m.\u001b[39mstudent_branch)\n",
      "\u001b[1;31mAttributeError\u001b[0m: 'student' object has no attribute 'faculty_salary'"
     ]
    }
   ],
   "source": [
    "class college:\n",
    "    college_name=\"LIET\"                                     #( public Variables )\n",
    "    college_add=\"Chikani\"\n",
    "    \n",
    "class faculty(college):\n",
    "    faculty_name=\"Aarti Arora\"\n",
    "    __faculty_salary=1000000                                # ( private method is used as double underscore before declaring variable)( PRIVATE VARIABLE )\n",
    "    \n",
    "class student(faculty):\n",
    "    student_name=\"Amit 😊\"\n",
    "    student_branch=\"CSE\"\n",
    "    \n",
    "obj_1=student()\n",
    "print(\"college name is\",obj_1.college_name)\n",
    "print(\"college address is\",obj_1.college_add)\n",
    "print(\"faculty name is\",obj_1.faculty_name)\n",
    "print(\"faculty salary is\",obj_1.faculty_salary)\n",
    "print(\"student name is\",obj_1.student_name)\n",
    "print(\"student branch is\",obj_1.student_branch)\n"
   ]
  },
  {
   "cell_type": "code",
   "execution_count": 12,
   "metadata": {},
   "outputs": [
    {
     "name": "stdout",
     "output_type": "stream",
     "text": [
      "college name = LIET 🎓\n",
      "college address = Chikani ♨️\n",
      "faculty name is Aarti Arora 🚺\n",
      "faculty salary is 1000000\n",
      "student name is Amit 😊\n",
      "student branch is CSE 💻\n"
     ]
    }
   ],
   "source": [
    "# ( USING OF CONSTRUCTOR IN ENCAPSULATION )\n",
    "\n",
    "class college:\n",
    "    def __init__(self):\n",
    "        self.college_name=\"LIET 🎓\"\n",
    "        self.college_add=\"Chikani ♨️\"\n",
    "    def display(self):\n",
    "        print(\"college name =\",self.college_name)\n",
    "        print(\"college address =\",self.college_add)\n",
    "    \n",
    "class faculty(college):\n",
    "    faculty_name=\"Aarti Arora 🚺\"\n",
    "    faculty_salary=1000000                              # ( private method is used as double underscore before declaring variable)\n",
    "    \n",
    "class student(faculty):\n",
    "    student_name=\"Amit 😊\"\n",
    "    student_branch=\"CSE 💻\"\n",
    "    \n",
    "obj_1=student()\n",
    "obj_1.display()\n",
    "#print(\"college name is\",obj_1.college_name)\n",
    "#print(\"college address is\",obj_1.college_add)\n",
    "print(\"faculty name is\",obj_1.faculty_name)\n",
    "print(\"faculty salary is\",obj_1.faculty_salary)\n",
    "print(\"student name is\",obj_1.student_name)\n",
    "print(\"student branch is\",obj_1.student_branch)\n"
   ]
  },
  {
   "cell_type": "markdown",
   "metadata": {},
   "source": [
    "#### 3. Protected Method"
   ]
  },
  {
   "cell_type": "code",
   "execution_count": 17,
   "metadata": {},
   "outputs": [
    {
     "ename": "AttributeError",
     "evalue": "'student' object has no attribute 'college_name'",
     "output_type": "error",
     "traceback": [
      "\u001b[1;31m---------------------------------------------------------------------------\u001b[0m",
      "\u001b[1;31mAttributeError\u001b[0m                            Traceback (most recent call last)",
      "Cell \u001b[1;32mIn[17], line 14\u001b[0m\n\u001b[0;32m     11\u001b[0m     student_branch\u001b[38;5;241m=\u001b[39m\u001b[38;5;124m\"\u001b[39m\u001b[38;5;124mCSE\u001b[39m\u001b[38;5;124m\"\u001b[39m\n\u001b[0;32m     13\u001b[0m obj_1\u001b[38;5;241m=\u001b[39mstudent()\n\u001b[1;32m---> 14\u001b[0m \u001b[38;5;28mprint\u001b[39m(\u001b[38;5;124m\"\u001b[39m\u001b[38;5;124mcollege name is\u001b[39m\u001b[38;5;124m\"\u001b[39m,\u001b[43mobj_1\u001b[49m\u001b[38;5;241;43m.\u001b[39;49m\u001b[43mcollege_name\u001b[49m)\n\u001b[0;32m     15\u001b[0m \u001b[38;5;28mprint\u001b[39m(\u001b[38;5;124m\"\u001b[39m\u001b[38;5;124mcollege address is\u001b[39m\u001b[38;5;124m\"\u001b[39m,obj_1\u001b[38;5;241m.\u001b[39mcollege_add)\n\u001b[0;32m     16\u001b[0m \u001b[38;5;28mprint\u001b[39m(\u001b[38;5;124m\"\u001b[39m\u001b[38;5;124mfaculty name is\u001b[39m\u001b[38;5;124m\"\u001b[39m,obj_1\u001b[38;5;241m.\u001b[39mfaculty_name)\n",
      "\u001b[1;31mAttributeError\u001b[0m: 'student' object has no attribute 'college_name'"
     ]
    }
   ],
   "source": [
    "class college:\n",
    "    _college_name=\"LIET\"                #( Protected Variables )\n",
    "    college_add=\"Chikani\"                                    \n",
    "    \n",
    "class faculty(college):\n",
    "    faculty_name=\"Aarti Arora\"\n",
    "    faculty_salary=1000000              # ( private method is used as double underscore before declaring variable)( PRIVATE VARIABLE )\n",
    "    \n",
    "class student(faculty):\n",
    "    student_name=\"Amit 😊\"\n",
    "    student_branch=\"CSE\"\n",
    "    \n",
    "obj_1=student()\n",
    "print(\"college name is\",obj_1.college_name)\n",
    "print(\"college address is\",obj_1.college_add)\n",
    "print(\"faculty name is\",obj_1.faculty_name)\n",
    "print(\"faculty salary is\",obj_1.faculty_salary)\n",
    "print(\"student name is\",obj_1.student_name)\n",
    "print(\"student branch is\",obj_1.student_branch)"
   ]
  }
 ],
 "metadata": {
  "kernelspec": {
   "display_name": "Python 3",
   "language": "python",
   "name": "python3"
  },
  "language_info": {
   "codemirror_mode": {
    "name": "ipython",
    "version": 3
   },
   "file_extension": ".py",
   "mimetype": "text/x-python",
   "name": "python",
   "nbconvert_exporter": "python",
   "pygments_lexer": "ipython3",
   "version": "3.12.2"
  }
 },
 "nbformat": 4,
 "nbformat_minor": 2
}
