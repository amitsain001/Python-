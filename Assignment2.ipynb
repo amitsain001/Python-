{
 "cells": [
  {
   "cell_type": "markdown",
   "metadata": {},
   "source": [
    "#### 1> Write a python method in Oops \"calculate_area\" that takes the radius of a circle as input and returns the area of the circle, write propram using Oops."
   ]
  },
  {
   "cell_type": "code",
   "execution_count": 20,
   "metadata": {},
   "outputs": [
    {
     "name": "stdout",
     "output_type": "stream",
     "text": [
      "area of the given circle is = 12.56\n"
     ]
    }
   ],
   "source": [
    "class maths:\n",
    "    def calculate_area(x):\n",
    "        x=int(input(\"enter a number\"))                                 # ( x is the radius of the circle)\n",
    "        area= 3.14*x*x\n",
    "        print(\"area of the given circle is =\",area)\n",
    "obj=maths()\n",
    "obj.calculate_area()     \n",
    "        \n",
    "        \n",
    "#(inputs) (x=2)\n",
    "        "
   ]
  },
  {
   "cell_type": "markdown",
   "metadata": {},
   "source": [
    "#### 2> Program of finding the final price of an item after applying discount by using method \"calculate                         discount\".                                  "
   ]
  },
  {
   "cell_type": "code",
   "execution_count": 36,
   "metadata": {},
   "outputs": [
    {
     "name": "stdout",
     "output_type": "stream",
     "text": [
      "final price of the item after applying discount is= 47.5\n"
     ]
    }
   ],
   "source": [
    "class price:\n",
    " def calculate_discount(z):\n",
    "    x=int(input(\"enter the price of item= \"))\n",
    "    y=int(input(\"enter the discount percentage= \"))\n",
    "    z=(x*y)/100\n",
    "    final_price=x-z\n",
    "    print(\"final price of the item after applying discount is=\",final_price)\n",
    "    \n",
    "obj1=price()\n",
    "obj1.calculate_discount()   \n",
    "\n",
    "#inputs (x=50,y=5)    "
   ]
  },
  {
   "cell_type": "markdown",
   "metadata": {},
   "source": [
    "#### 3> Write a method in Oops \"count_vowels\" that takes a string as input and returns the count of vowels (both uppercase and lowercase) in the string."
   ]
  },
  {
   "cell_type": "code",
   "execution_count": 47,
   "metadata": {},
   "outputs": [
    {
     "data": {
      "text/plain": [
       "4"
      ]
     },
     "execution_count": 47,
     "metadata": {},
     "output_type": "execute_result"
    }
   ],
   "source": [
    "class alphabet:\n",
    "    def count_vowels(x):\n",
    "        x=input(\"enter a string= \")\n",
    "        vowels='aeiouAEIOU'\n",
    "        count=0\n",
    "        for i in x:\n",
    "            if i in vowels:\n",
    "                count+=1\n",
    "        return count        \n",
    "obj1=alphabet()\n",
    "obj1.count_vowels()\n",
    "\n",
    "# INPUT = (x= AmitSain)"
   ]
  }
 ],
 "metadata": {
  "kernelspec": {
   "display_name": "Python 3",
   "language": "python",
   "name": "python3"
  },
  "language_info": {
   "codemirror_mode": {
    "name": "ipython",
    "version": 3
   },
   "file_extension": ".py",
   "mimetype": "text/x-python",
   "name": "python",
   "nbconvert_exporter": "python",
   "pygments_lexer": "ipython3",
   "version": "3.12.2"
  }
 },
 "nbformat": 4,
 "nbformat_minor": 2
}
