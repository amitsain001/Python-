{
 "cells": [
  {
   "cell_type": "markdown",
   "metadata": {},
   "source": [
    "# FILE HANDELING "
   ]
  },
  {
   "cell_type": "markdown",
   "metadata": {},
   "source": [
    "File Handling\n",
    "Python has several functions for creating, reading, updating, and deleting files.\n",
    "File handling is an important part of any web application.\n",
    "The key function for working with files in Python is the open() function.\n",
    "The open() function takes two parameters; filename, and mode.\n",
    "\n",
    "    * There are four different methods (modes) for opening a file:\n",
    "\n",
    "\"r\" - Read - Default value. Opens a file for reading, error if the file does not exist\n",
    "\n",
    "\"a\" - Append - Opens a file for appending, creates the file if it does not exist\n",
    "\n",
    "\"w\" - Write - Opens a file for writing, creates the file if it does not exist\n",
    "\n",
    "\"x\" - Create - Creates the specified file, returns an error if the file exists\n",
    "\n",
    "     * In addition you can specify if the file should be handled as binary or text mode\n",
    "\"t\" - Text - Default value. Text mode\n",
    "\n",
    "\"b\" - Binary - Binary mode (e.g. images)"
   ]
  },
  {
   "cell_type": "markdown",
   "metadata": {},
   "source": [
    "#### Open()"
   ]
  },
  {
   "cell_type": "code",
   "execution_count": 27,
   "metadata": {},
   "outputs": [
    {
     "name": "stdout",
     "output_type": "stream",
     "text": [
      "Hello World\n"
     ]
    }
   ],
   "source": [
    "f= open(r\"C:\\Users\\amit2\\OneDrive\\Desktop\\Amit Python\\file_handling.txt\",'r')\n",
    "print(f.read())"
   ]
  },
  {
   "cell_type": "markdown",
   "metadata": {},
   "source": [
    "### Close()"
   ]
  },
  {
   "cell_type": "code",
   "execution_count": 1,
   "metadata": {},
   "outputs": [
    {
     "name": "stdout",
     "output_type": "stream",
     "text": [
      "HellowHellowHellowHellowHellowHellowHellowHellow\n"
     ]
    }
   ],
   "source": [
    "f= open(r\"C:\\Users\\amit2\\OneDrive\\Desktop\\Amit Python\\file_handling.txt\",'r')\n",
    "print(f.read())\n",
    "\n",
    "f.close()"
   ]
  },
  {
   "cell_type": "markdown",
   "metadata": {},
   "source": [
    "#### 1. 'r' Method "
   ]
  },
  {
   "cell_type": "code",
   "execution_count": 8,
   "metadata": {},
   "outputs": [
    {
     "name": "stdout",
     "output_type": "stream",
     "text": [
      "I am the student of LIET \n",
      "My age is 19\n",
      "I liye in Bhiwadi\n",
      "Singing is my passion\n",
      "I love to play guitar.\n",
      "\n"
     ]
    }
   ],
   "source": [
    "f= open(r\"C:\\Users\\amit2\\OneDrive\\Desktop\\Amit Python\\file_handling.txt\",'r')\n",
    "for x in f:\n",
    "    print(f.read())"
   ]
  },
  {
   "cell_type": "markdown",
   "metadata": {},
   "source": [
    "### Readline function"
   ]
  },
  {
   "cell_type": "code",
   "execution_count": 19,
   "metadata": {},
   "outputs": [
    {
     "name": "stdout",
     "output_type": "stream",
     "text": [
      "Hlo sir i am Amit \n",
      "\n",
      "I am the student of LIET \n",
      "\n"
     ]
    }
   ],
   "source": [
    "f= open(r\"C:\\Users\\amit2\\OneDrive\\Desktop\\Amit Python\\file_handling.txt\",'r')\n",
    "print(f.readline())\n",
    "print(f.readline())\n",
    "\n",
    "f.close()\n",
    "\n"
   ]
  },
  {
   "cell_type": "code",
   "execution_count": 22,
   "metadata": {},
   "outputs": [
    {
     "name": "stdout",
     "output_type": "stream",
     "text": [
      "Hlo sir i am Amit \n",
      "\n"
     ]
    }
   ],
   "source": [
    "f=open(r\"file_handling.txt\",'r')\n",
    "print(f.readline())"
   ]
  },
  {
   "cell_type": "markdown",
   "metadata": {},
   "source": [
    "#### 2. Write 'w' Mode"
   ]
  },
  {
   "cell_type": "code",
   "execution_count": 25,
   "metadata": {},
   "outputs": [
    {
     "name": "stdout",
     "output_type": "stream",
     "text": [
      "Hello World\n"
     ]
    },
    {
     "data": {
      "text/plain": [
       "<function TextIOWrapper.close()>"
      ]
     },
     "execution_count": 25,
     "metadata": {},
     "output_type": "execute_result"
    }
   ],
   "source": [
    "f=open(r\"file_handling.txt\",'w')\n",
    "f.write(\"Hello World\")\n",
    "f.close()\n",
    "\n",
    "f=open(r\"file_handling.txt\",'r')\n",
    "print(f.readline())\n",
    "\n",
    "f.close\n",
    "\n",
    "\n"
   ]
  },
  {
   "cell_type": "markdown",
   "metadata": {},
   "source": [
    "#### 3. Append 'a' Mode"
   ]
  },
  {
   "cell_type": "code",
   "execution_count": 8,
   "metadata": {},
   "outputs": [
    {
     "name": "stdout",
     "output_type": "stream",
     "text": [
      "HellowHellowHellowHellowHellowHellowHellowHellow\n"
     ]
    }
   ],
   "source": [
    "with open(r\"file_handling.txt\",'a') as file:\n",
    "    file.write(\"Hellow\")\n",
    "file.close()\n",
    "f=open(r\"file_handling.txt\",'r')\n",
    "print(f.readline())"
   ]
  },
  {
   "cell_type": "markdown",
   "metadata": {},
   "source": [
    "#### 4. Create('x') Method"
   ]
  },
  {
   "cell_type": "code",
   "execution_count": 9,
   "metadata": {},
   "outputs": [
    {
     "name": "stdout",
     "output_type": "stream",
     "text": [
      "file exists already\n"
     ]
    }
   ],
   "source": [
    "try:\n",
    "    with open(r\"file_handling.txt\",'x') as file:\n",
    "        file.write(\"Amit sain\")\n",
    "    file.close()\n",
    "except Exception as e:\n",
    "    print(\"file exists already\")\n",
    "        "
   ]
  }
 ],
 "metadata": {
  "kernelspec": {
   "display_name": "Python 3",
   "language": "python",
   "name": "python3"
  },
  "language_info": {
   "codemirror_mode": {
    "name": "ipython",
    "version": 3
   },
   "file_extension": ".py",
   "mimetype": "text/x-python",
   "name": "python",
   "nbconvert_exporter": "python",
   "pygments_lexer": "ipython3",
   "version": "3.12.2"
  }
 },
 "nbformat": 4,
 "nbformat_minor": 2
}
