{
 "cells": [
  {
   "cell_type": "markdown",
   "metadata": {},
   "source": [
    "#### 1. Create a numpy array with filling random values, and shape of array should be (12,5), and pass this array from a user-defined function, and function should be able to return average, minimum, maximum, and no. of evens in your last row. \n",
    "For e.g. consider this is last row [41,52,63,96,85], \n",
    "Output:\n",
    "Average -> 67.4\n",
    "Minimum -> 41\n",
    "Maximum -> 96\n",
    "No. of evens -> 2"
   ]
  },
  {
   "cell_type": "code",
   "execution_count": 14,
   "metadata": {},
   "outputs": [
    {
     "name": "stdout",
     "output_type": "stream",
     "text": [
      "[[ 91  64  58  82  19]\n",
      " [ 60  78  54  98  92]\n",
      " [100  84  12  43  61]\n",
      " [ 64  44  66  42  83]\n",
      " [ 51  70  45   9  83]\n",
      " [ 74  40  32  93  26]\n",
      " [ 99   5  84  36  31]\n",
      " [ 44  58  24  74  70]\n",
      " [ 21   3  98  45  60]\n",
      " [ 14  69  24   2  82]\n",
      " [ 85  23  85  50   3]\n",
      " [ 19  66  85  50  34]]\n",
      "\n",
      " Average of the last row=  50.8\n",
      "\n",
      "Minimum value in the last row of array=  19\n",
      "\n",
      "Maximum value in the last row of given array=  85\n",
      "\n",
      "No. of even numbers in the last row is= 3\n"
     ]
    }
   ],
   "source": [
    "import numpy as npy\n",
    "\n",
    "def my_numpy():\n",
    "    ary= npy.random.randint(1,101,size=(12,5))                              # an array of ranmdom elements created between no. 1 and 101 with size 12 rows and 5 columns\n",
    "    print(ary)\n",
    "    print()\n",
    "    last_row = ary[-1]                                                      # accessing last row of array\n",
    "    avg = npy.mean(last_row)                                                # Average finding\n",
    "    print(\"Average of the last row= \",avg)\n",
    "    print()\n",
    "    min_value= npy.min(last_row)                                            # Finding minimum value in the last row of array\n",
    "    print(\"Minimum value in the last row of array= \",min_value)\n",
    "    print()\n",
    "    max_value= npy.max(last_row)                                            # Finding maximum value in the last row of array\n",
    "    print(\"Maximum value in the last row of given array= \",max_value)\n",
    "    print()\n",
    "    no_even= npy.sum(last_row % 2 == 0)                                     # Finding number of even numbers in the last row of array\n",
    "    print(\"No. of even numbers in the last row is=\",no_even)\n",
    "    \n",
    "my_numpy()"
   ]
  },
  {
   "cell_type": "markdown",
   "metadata": {},
   "source": [
    "#### 2. Let’s consider we have an array, e.g.\n",
    "[[1 2 3 ],\n",
    "[4 5 6 ],\n",
    "[7 8 9 ]] \n",
    "And apply slicing techniques to get reversed order elements of all the rows, \n",
    "like this -> [[3 2 1],\n",
    " [6 5 4],\n",
    " [9 8 7]"
   ]
  },
  {
   "cell_type": "code",
   "execution_count": 19,
   "metadata": {},
   "outputs": [
    {
     "name": "stdout",
     "output_type": "stream",
     "text": [
      "[[3 4 1]\n",
      " [5 7 9]\n",
      " [1 4 2]]\n",
      "\n",
      "array after reversing is =  \n",
      " [[1 4 3]\n",
      " [9 7 5]\n",
      " [2 4 1]]\n"
     ]
    }
   ],
   "source": [
    "import numpy as np\n",
    "ary= np.array([[3,4,1],[5,7,9],[1,4,2]])                        # An array constructed\n",
    "print(ary) \n",
    "print()\n",
    "reverse_array = ary[:, ::-1]                                     # Reversing the array ( [:, ::-1] means \"take all rows (:) and reverse the order of elements (::-1) within each row\".)\n",
    "print(\"array after reversing is = \",\"\\n\",reverse_array)"
   ]
  }
 ],
 "metadata": {
  "kernelspec": {
   "display_name": "Python 3",
   "language": "python",
   "name": "python3"
  },
  "language_info": {
   "codemirror_mode": {
    "name": "ipython",
    "version": 3
   },
   "file_extension": ".py",
   "mimetype": "text/x-python",
   "name": "python",
   "nbconvert_exporter": "python",
   "pygments_lexer": "ipython3",
   "version": "3.12.2"
  }
 },
 "nbformat": 4,
 "nbformat_minor": 2
}
