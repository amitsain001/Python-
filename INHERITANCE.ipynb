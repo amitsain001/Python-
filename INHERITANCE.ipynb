{
 "cells": [
  {
   "cell_type": "markdown",
   "metadata": {},
   "source": [
    "# ( INHERITANCE )\n",
    "\n",
    "* Inheritance is the process by which we can access the property of one class (base class ) to the other class (derived class)\n",
    "\n",
    "* There are 5 types of Inheritance \n",
    "\n",
    "1> Single Inheritance\n",
    "2> Multiple Inheritance \n",
    "3> Multilevel Inheritance\n",
    "4> Hybrid inheritance\n",
    "5> Hierarichal Inheritance\n",
    "\n",
    "* Here we will going to discuss about Single, Multiple and Multiple Inheritance."
   ]
  },
  {
   "cell_type": "markdown",
   "metadata": {},
   "source": [
    "# Single Inheritance\n",
    "\n",
    "* In single inheritance there is only one base class and one derived class present which means derived class aquire the property of base class. \n",
    "\n",
    "* for eg. one class is Father and other class is Son the Class Son acquires the property of the base class which is class Father."
   ]
  },
  {
   "cell_type": "code",
   "execution_count": 1,
   "metadata": {},
   "outputs": [
    {
     "name": "stdout",
     "output_type": "stream",
     "text": [
      "constructor is executed\n",
      "\n",
      "my father name is mohan\n",
      "my father age is 69\n",
      "hi i am ram\n",
      "i am 19 years old\n"
     ]
    }
   ],
   "source": [
    "class father:\n",
    "    def __init__(self,name,age):\n",
    "        self.father_name= name\n",
    "        self.father_age= age\n",
    "        print(\"constructor is executed\")\n",
    "        print()\n",
    "        \n",
    "    def display(self):\n",
    "        print(\"my father name is\", self.father_name)\n",
    "        print(\"my father age is\", self.father_age)\n",
    "        \n",
    "class son(father):                                          #( BASE CLASS INHERITED TO THE DERIVED CLASS )( SYNTAX )\n",
    "    def son_hii(self):\n",
    "        self.display()\n",
    "        print(\"hi i am ram\")\n",
    "        print(\"i am 19 years old\")\n",
    "        \n",
    "son_obj= son(\"mohan\",69)\n",
    "\n",
    "son_obj.son_hii()\n",
    "        \n",
    "        \n",
    "        \n",
    "    "
   ]
  },
  {
   "cell_type": "markdown",
   "metadata": {},
   "source": [
    "#  Multilevel Inheritance\n",
    "\n",
    "* In Multilevel inheritance their are 3 class are present in which first class is the base class for the second class and second class is the derived class for the First class and then Second class act as base class for third class.\n",
    "\n",
    "* For eg. grandfather to father to child\n"
   ]
  },
  {
   "cell_type": "code",
   "execution_count": 7,
   "metadata": {},
   "outputs": [
    {
     "name": "stdout",
     "output_type": "stream",
     "text": [
      "grandfather is =  appu\n",
      "grandfather age is =  72\n",
      "\n",
      "father is =  pappu\n",
      "father age is =  45\n",
      "\n",
      "son is =  jhappu\n",
      "son age is =  21\n"
     ]
    }
   ],
   "source": [
    "class grandfather:\n",
    "    grandfathers_name= \"appu\"\n",
    "    grandfathers_age=72\n",
    "    \n",
    "class father(grandfather):\n",
    "    fathers_name=\"pappu\"\n",
    "    fathers_age=45\n",
    "    \n",
    "class son(father):\n",
    "    son_name=\"jhappu\"\n",
    "    son_age= 21 \n",
    "    \n",
    "child_1 = son()\n",
    "print(\"grandfather is = \",child_1.grandfathers_name)\n",
    "print(\"grandfather age is = \",child_1.grandfathers_age)\n",
    "print()\n",
    "print(\"father is = \",child_1.fathers_name)\n",
    "print(\"father age is = \",child_1.fathers_age)\n",
    "print()\n",
    "print(\"son is = \",child_1.son_name)\n",
    "print(\"son age is = \",child_1.son_age)\n"
   ]
  },
  {
   "cell_type": "markdown",
   "metadata": {},
   "source": [
    "# Multiple Inheritance\n",
    "\n",
    "* Two base class and one derived class "
   ]
  },
  {
   "cell_type": "code",
   "execution_count": 8,
   "metadata": {},
   "outputs": [
    {
     "name": "stdout",
     "output_type": "stream",
     "text": [
      "grandfather is =  appu\n",
      "grandfather age is =  72\n",
      "\n",
      "father is =  pappu\n",
      "father age is =  45\n",
      "\n",
      "son is =  jhappu\n",
      "son age is =  21\n"
     ]
    }
   ],
   "source": [
    "class grandfather:\n",
    "    grandfathers_name= \"appu\"\n",
    "    grandfathers_age=72\n",
    "    \n",
    "class father:\n",
    "    fathers_name=\"pappu\"\n",
    "    fathers_age=45\n",
    "    \n",
    "class son(grandfather,father):\n",
    "    son_name=\"jhappu\"\n",
    "    son_age= 21 \n",
    "    \n",
    "child_1 = son()\n",
    "print(\"grandfather is = \",child_1.grandfathers_name)\n",
    "print(\"grandfather age is = \",child_1.grandfathers_age)\n",
    "print()\n",
    "print(\"father is = \",child_1.fathers_name)\n",
    "print(\"father age is = \",child_1.fathers_age)\n",
    "print()\n",
    "print(\"son is = \",child_1.son_name)\n",
    "print(\"son age is = \",child_1.son_age)\n"
   ]
  }
 ],
 "metadata": {
  "kernelspec": {
   "display_name": "Python 3",
   "language": "python",
   "name": "python3"
  },
  "language_info": {
   "codemirror_mode": {
    "name": "ipython",
    "version": 3
   },
   "file_extension": ".py",
   "mimetype": "text/x-python",
   "name": "python",
   "nbconvert_exporter": "python",
   "pygments_lexer": "ipython3",
   "version": "3.12.2"
  }
 },
 "nbformat": 4,
 "nbformat_minor": 2
}
