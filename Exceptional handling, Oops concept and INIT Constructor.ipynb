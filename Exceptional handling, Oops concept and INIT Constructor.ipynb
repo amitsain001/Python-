{
 "cells": [
  {
   "cell_type": "markdown",
   "metadata": {},
   "source": [
    "### Type Error"
   ]
  },
  {
   "cell_type": "code",
   "execution_count": 3,
   "metadata": {},
   "outputs": [
    {
     "ename": "TypeError",
     "evalue": "'<' not supported between instances of 'str' and 'int'",
     "output_type": "error",
     "traceback": [
      "\u001b[1;31m---------------------------------------------------------------------------\u001b[0m",
      "\u001b[1;31mTypeError\u001b[0m                                 Traceback (most recent call last)",
      "Cell \u001b[1;32mIn[3], line 2\u001b[0m\n\u001b[0;32m      1\u001b[0m x\u001b[38;5;241m=\u001b[39m\u001b[38;5;28minput\u001b[39m(\u001b[38;5;124m\"\u001b[39m\u001b[38;5;124menter a number\u001b[39m\u001b[38;5;124m\"\u001b[39m)\n\u001b[1;32m----> 2\u001b[0m \u001b[38;5;28;01mif\u001b[39;00m \u001b[43mx\u001b[49m\u001b[38;5;241;43m<\u001b[39;49m\u001b[38;5;241;43m10\u001b[39;49m:\n\u001b[0;32m      3\u001b[0m         \u001b[38;5;28mprint\u001b[39m(\u001b[38;5;124m\"\u001b[39m\u001b[38;5;124mhello amit\u001b[39m\u001b[38;5;124m\"\u001b[39m)\n",
      "\u001b[1;31mTypeError\u001b[0m: '<' not supported between instances of 'str' and 'int'"
     ]
    }
   ],
   "source": [
    "x=input(\"enter a number\")\n",
    "if x<10:\n",
    "        print(\"hello amit\")"
   ]
  },
  {
   "cell_type": "markdown",
   "metadata": {},
   "source": [
    "# Exception Handeling"
   ]
  },
  {
   "cell_type": "code",
   "execution_count": 22,
   "metadata": {},
   "outputs": [
    {
     "name": "stdout",
     "output_type": "stream",
     "text": [
      "program is running\n",
      "program is executed\n",
      "result is =  1.0\n",
      "no exception\n",
      "hello world\n"
     ]
    }
   ],
   "source": [
    "x=int(input(\"enter number 1\"))\n",
    "y=int(input(\"enter a number 2\"))\n",
    "\n",
    "try:\n",
    "    print(\"program is running\")\n",
    "    result= x/y\n",
    "    print(\"program is executed\")\n",
    "    print(\"result is = \",result)\n",
    "except Exception as e:\n",
    "    print(\"as get an error\")\n",
    "    print(e)\n",
    "\n",
    "else:\n",
    "    print(\"no exception\")\n",
    "    \n",
    "finally:\n",
    "    print(\"hello world\")"
   ]
  },
  {
   "cell_type": "markdown",
   "metadata": {},
   "source": [
    "# Oops in Python"
   ]
  },
  {
   "cell_type": "code",
   "execution_count": 9,
   "metadata": {},
   "outputs": [
    {
     "name": "stdout",
     "output_type": "stream",
     "text": [
      "Lion\n",
      "2000\n",
      "25\n"
     ]
    }
   ],
   "source": [
    "\n",
    "class animal:                               #CLASS VARIABLE\n",
    "    name=\"Lion\"\n",
    "    weight=2000\n",
    "    age=25                                  #( FUNCTION vs METHOD )\n",
    "def display(self):                          #( SELF KEYWORD IS USED TO CALL THE DATA MEMBERS OF CLASS )\n",
    "        print(self.name)\n",
    "        print(self.weight)\n",
    "        print(self.age)\n",
    "obj_animal= animal()                        # ( OBJECT CREATION )\n",
    "    #print(obj_animal.name)\n",
    "obj_animal.display()\n",
    "    "
   ]
  },
  {
   "cell_type": "markdown",
   "metadata": {},
   "source": [
    "#### Inserting OF A DATAMEMBER OF A CLASS "
   ]
  },
  {
   "cell_type": "code",
   "execution_count": 10,
   "metadata": {},
   "outputs": [
    {
     "name": "stdout",
     "output_type": "stream",
     "text": [
      "Lion\n",
      "2000\n",
      "25\n",
      "python\n"
     ]
    }
   ],
   "source": [
    "class animal:\n",
    "#CLASS VARIABLE\n",
    "    name=\"Lion\"\n",
    "    weight=2000\n",
    "    age=25                                            #( FUNCTION vs METHOD )\n",
    "    def display(self):                          #( SELF KEYWORD IS USED TO CALL THE DATA MEMBERS OF CLASS )\n",
    "        print(self.name)\n",
    "        print(self.weight)\n",
    "        print(self.age)\n",
    "    \n",
    "    obj_animal= animal()                        # ( OBJECT CREATION )\n",
    "    #print(obj_animal.name)\n",
    "    obj_animal.display()\n",
    "    \n",
    "    obj_animal.name= \"python\"\n",
    "    print(obj_animal.name)\n",
    "    "
   ]
  },
  {
   "cell_type": "markdown",
   "metadata": {},
   "source": [
    "# ( CONSTRUCTOR - INIT )\n",
    "\n"
   ]
  },
  {
   "cell_type": "code",
   "execution_count": null,
   "metadata": {},
   "outputs": [],
   "source": [
    "__init__   #( WAY OF WRITING INIT CONSTRUCTOR OR SYNTAX )( used to asign the value of a objects property)"
   ]
  },
  {
   "cell_type": "code",
   "execution_count": 7,
   "metadata": {},
   "outputs": [
    {
     "name": "stdout",
     "output_type": "stream",
     "text": [
      "pisuke\n",
      "27\n",
      "25000\n",
      "ichi\n",
      "120\n",
      "18\n",
      "100\n",
      "200\n"
     ]
    }
   ],
   "source": [
    "#( EXAMPLE OF INIT CONSTRUCTOR )\n",
    "\n",
    "class animal:\n",
    "    num1= 100\n",
    "    num2= 200\n",
    "    def __init__(self,name,weight,age):\n",
    "        self.animal_name=name              #( CREATING VARIABLE NAME  BY USING DOT OPERATOR WITH SELF KEYWORD )(these variables are instance variables)\n",
    "        self.animal_weight=weight\n",
    "        self.animal_age=age\n",
    "        \n",
    "    def display(self):\n",
    "        print(self.animal_name)\n",
    "        print(self.animal_weight)\n",
    "        print(self.animal_age)\n",
    "        \n",
    "obj1= animal(name=\"pisuke\",weight=25000,age=27)\n",
    "print(obj1.animal_name)\n",
    "print(obj1.animal_age)\n",
    "print(obj1.animal_weight)\n",
    "\n",
    "obj2= animal(name=\"ichi\",weight=120,age=18)\n",
    "print(obj2.animal_name)\n",
    "print(obj2.animal_weight)\n",
    "print(obj2.animal_age)\n",
    "print(obj1.num1)\n",
    "print(obj2.num2)"
   ]
  },
  {
   "cell_type": "code",
   "execution_count": 16,
   "metadata": {},
   "outputs": [
    {
     "name": "stdout",
     "output_type": "stream",
     "text": [
      "name of the account holder =  Amit sain\n",
      "age of the account holder =  19\n",
      "add of the account holder =  Bhiwadi\n",
      "name of the account holder bank =  SBI\n",
      "account number of the account holder =  4236155436746\n",
      "\n",
      "account holder name is changed to =  Sumit sain\n",
      "\n",
      "\n",
      "name of the account holder =  Amit sain\n",
      "age of the account holder =  19\n",
      "add of the account holder =  Bhiwadi\n",
      "name of the account holder bank =  SBI\n",
      "account number of the account holder =  4236155436746\n",
      "\n",
      "show account 1 info\n",
      "Sumit sain\n",
      "19\n",
      "Bhiwadi\n",
      "SBI\n",
      "4236155436746\n",
      "\n",
      "show account 2 info\n",
      "Amit sain\n",
      "19\n",
      "Bhiwadi\n",
      "SBI\n",
      "4236155436746\n"
     ]
    }
   ],
   "source": [
    "class bank:\n",
    "    name=\"Amit sain\"                                    #( CLASS VARIABLES )\n",
    "    age=\"19\"\n",
    "    add=\"Bhiwadi\"\n",
    "    bank_name=\"SBI\"\n",
    "    account= 4236155436746\n",
    "    \n",
    "    def show_info(self):                                #( HERE SHOW FUNCTION IS USED TO )\n",
    "         print(self.name)\n",
    "         print(self.age)\n",
    "         print(self.add)\n",
    "         print(self.bank_name)\n",
    "         print(self.account)\n",
    "\n",
    "account_1=bank()\n",
    "print(\"name of the account holder = \",account_1.name)\n",
    "print(\"age of the account holder = \",account_1.age)\n",
    "print(\"add of the account holder = \",account_1.add)\n",
    "print(\"name of the account holder bank = \",account_1.bank_name)\n",
    "print(\"account number of the account holder = \",account_1.account)\n",
    "print()\n",
    "account_1.name=\"Sumit sain\"\n",
    "print(\"account holder name is changed to = \",account_1.name)\n",
    "print(\"\\n\")\n",
    "\n",
    "account_2=bank()\n",
    "print(\"name of the account holder = \",account_2.name)\n",
    "print(\"age of the account holder = \",account_2.age)\n",
    "print(\"add of the account holder = \",account_2.add)\n",
    "print(\"name of the account holder bank = \",account_2.bank_name)\n",
    "print(\"account number of the account holder = \",account_2.account)\n",
    "print()\n",
    "\n",
    "print(\"show account 1 info\")\n",
    "account_1.show_info()\n",
    "print()\n",
    "\n",
    "print(\"show account 2 info\")\n",
    "account_2.show_info()\n",
    "\n",
    "\n",
    "\n",
    "\n",
    "\n",
    "         \n",
    "    "
   ]
  },
  {
   "cell_type": "code",
   "execution_count": 28,
   "metadata": {},
   "outputs": [
    {
     "name": "stdout",
     "output_type": "stream",
     "text": [
      "[1, 2, 3, 4, 5, 6, 7, 85, 68, 46, 45, 9, 10]\n"
     ]
    }
   ],
   "source": [
    "#(non repeatation of a value in a list )\n",
    "\n",
    "def uniq_list(l):\n",
    "    x=[]\n",
    "    for a in l:\n",
    "        if a not in x:\n",
    "            x.append(a)\n",
    "    return x\n",
    "print(uniq_list([1,2,3,3,4,5,6,6,7,85,68,46,4,6,5,4,3,45,46,5,4,3,5,6,3,9,9,10]))"
   ]
  }
 ],
 "metadata": {
  "kernelspec": {
   "display_name": "Python 3",
   "language": "python",
   "name": "python3"
  },
  "language_info": {
   "codemirror_mode": {
    "name": "ipython",
    "version": 3
   },
   "file_extension": ".py",
   "mimetype": "text/x-python",
   "name": "python",
   "nbconvert_exporter": "python",
   "pygments_lexer": "ipython3",
   "version": "3.12.2"
  }
 },
 "nbformat": 4,
 "nbformat_minor": 2
}
